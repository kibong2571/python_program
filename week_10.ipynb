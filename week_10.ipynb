{
 "cells": [
  {
   "cell_type": "code",
   "execution_count": 1,
   "id": "26807bf7-4b2d-4033-a75d-a1815e196e3b",
   "metadata": {},
   "outputs": [],
   "source": [
    "result = 0"
   ]
  },
  {
   "cell_type": "code",
   "execution_count": 2,
   "id": "1febc91a-dbe8-4871-9f18-60301d93b929",
   "metadata": {},
   "outputs": [],
   "source": [
    "def adder (num):\n",
    "    global result\n",
    "    result += num\n",
    "    return result"
   ]
  },
  {
   "cell_type": "code",
   "execution_count": 5,
   "id": "c4c14893-2a3b-448f-9445-6885b7bac303",
   "metadata": {},
   "outputs": [
    {
     "data": {
      "text/plain": [
       "6"
      ]
     },
     "execution_count": 5,
     "metadata": {},
     "output_type": "execute_result"
    }
   ],
   "source": [
    "adder(3)"
   ]
  },
  {
   "cell_type": "code",
   "execution_count": 6,
   "id": "34ba8ffb-7268-4d3c-a082-850033d2d68d",
   "metadata": {},
   "outputs": [
    {
     "data": {
      "text/plain": [
       "10"
      ]
     },
     "execution_count": 6,
     "metadata": {},
     "output_type": "execute_result"
    }
   ],
   "source": [
    "adder(4)"
   ]
  },
  {
   "cell_type": "code",
   "execution_count": 7,
   "id": "aea42fc7-c498-4809-89d9-cbda64c28dd6",
   "metadata": {},
   "outputs": [
    {
     "data": {
      "text/plain": [
       "15"
      ]
     },
     "execution_count": 7,
     "metadata": {},
     "output_type": "execute_result"
    }
   ],
   "source": [
    "adder(5)"
   ]
  },
  {
   "cell_type": "code",
   "execution_count": 8,
   "id": "bc133160-06ef-455e-b016-6647843d4cf0",
   "metadata": {},
   "outputs": [],
   "source": [
    "result1 = 0\n",
    "result2 = 0"
   ]
  },
  {
   "cell_type": "code",
   "execution_count": 9,
   "id": "b7966c2e-ce91-4c71-a8c1-3a6d77113d92",
   "metadata": {},
   "outputs": [],
   "source": [
    "def adder1 (num):\n",
    "    global result1\n",
    "    result1 += num\n",
    "    return result1"
   ]
  },
  {
   "cell_type": "code",
   "execution_count": 10,
   "id": "14579e89-c129-404e-a80e-5ed16321a381",
   "metadata": {},
   "outputs": [],
   "source": [
    "def adder2 (num):\n",
    "    global result2\n",
    "    result2 += num\n",
    "    return result2"
   ]
  },
  {
   "cell_type": "code",
   "execution_count": 11,
   "id": "fa71dff5-a9c8-43ab-8689-a643ba0a9b51",
   "metadata": {},
   "outputs": [
    {
     "data": {
      "text/plain": [
       "1"
      ]
     },
     "execution_count": 11,
     "metadata": {},
     "output_type": "execute_result"
    }
   ],
   "source": [
    "adder1 (1)"
   ]
  },
  {
   "cell_type": "code",
   "execution_count": 12,
   "id": "c87a2914-648d-4b35-b054-6d14b1fe4bb2",
   "metadata": {},
   "outputs": [
    {
     "data": {
      "text/plain": [
       "3"
      ]
     },
     "execution_count": 12,
     "metadata": {},
     "output_type": "execute_result"
    }
   ],
   "source": [
    "adder1 (2)"
   ]
  },
  {
   "cell_type": "code",
   "execution_count": 13,
   "id": "b5b7ad05-b3ba-4346-827c-2724fbffdae9",
   "metadata": {},
   "outputs": [
    {
     "data": {
      "text/plain": [
       "2"
      ]
     },
     "execution_count": 13,
     "metadata": {},
     "output_type": "execute_result"
    }
   ],
   "source": [
    "adder2(2)"
   ]
  },
  {
   "cell_type": "code",
   "execution_count": 14,
   "id": "da79b98d-3bba-4c98-8361-be18c4d5000a",
   "metadata": {},
   "outputs": [
    {
     "data": {
      "text/plain": [
       "6"
      ]
     },
     "execution_count": 14,
     "metadata": {},
     "output_type": "execute_result"
    }
   ],
   "source": [
    "adder2(4)"
   ]
  },
  {
   "cell_type": "code",
   "execution_count": 15,
   "id": "e6ada116-bacf-4f54-a435-d9c55476f238",
   "metadata": {},
   "outputs": [
    {
     "data": {
      "text/plain": [
       "6"
      ]
     },
     "execution_count": 15,
     "metadata": {},
     "output_type": "execute_result"
    }
   ],
   "source": [
    "adder1(3)"
   ]
  },
  {
   "cell_type": "code",
   "execution_count": 16,
   "id": "0fa3bb6c-750e-4bb9-bbe0-725917d219eb",
   "metadata": {},
   "outputs": [
    {
     "data": {
      "text/plain": [
       "20"
      ]
     },
     "execution_count": 16,
     "metadata": {},
     "output_type": "execute_result"
    }
   ],
   "source": [
    "adder(5)"
   ]
  },
  {
   "cell_type": "code",
   "execution_count": 38,
   "id": "b1a47af9-0d0d-41b3-b028-50320fa542b9",
   "metadata": {},
   "outputs": [],
   "source": [
    "class Calculator:\n",
    "    def __init__(self):   #초기값을 셋팅하는 함수, self.result = 0 은 초기값을 0으로 받는 것임.\n",
    "        self.result = 0\n",
    "    def adder(self, num):  #self 는 자기자신을 나타내는 함수를 넣기로 약속이 됨.\n",
    "        self.result +=num\n",
    "        return self.result\n",
    "\n",
    "cal1 = Calculator()\n",
    "cal2 = Calculator()\n",
    "        "
   ]
  },
  {
   "cell_type": "code",
   "execution_count": 39,
   "id": "2c83ff7a-3396-44a0-a52a-3243f8422bff",
   "metadata": {},
   "outputs": [
    {
     "name": "stdout",
     "output_type": "stream",
     "text": [
      "3\n"
     ]
    }
   ],
   "source": [
    "print (cal1.adder(3))"
   ]
  },
  {
   "cell_type": "code",
   "execution_count": 40,
   "id": "b9e00bbd-ba9c-4a98-881b-4cd1bb11c07e",
   "metadata": {},
   "outputs": [
    {
     "name": "stdout",
     "output_type": "stream",
     "text": [
      "7\n"
     ]
    }
   ],
   "source": [
    "print (cal1.adder(4))"
   ]
  },
  {
   "cell_type": "code",
   "execution_count": 41,
   "id": "f2c510da-6585-4480-9d53-070d57de6a1a",
   "metadata": {},
   "outputs": [
    {
     "data": {
      "text/plain": [
       "7"
      ]
     },
     "execution_count": 41,
     "metadata": {},
     "output_type": "execute_result"
    }
   ],
   "source": [
    "cal1.result"
   ]
  },
  {
   "cell_type": "code",
   "execution_count": 42,
   "id": "7c0d01f2-92df-40de-a8e2-02e924780ede",
   "metadata": {},
   "outputs": [
    {
     "name": "stdout",
     "output_type": "stream",
     "text": [
      "6\n"
     ]
    }
   ],
   "source": [
    "print (cal2.adder(6))"
   ]
  },
  {
   "cell_type": "code",
   "execution_count": 43,
   "id": "e89c5f0f-9a4f-42f7-a575-e4f06ee159d4",
   "metadata": {},
   "outputs": [
    {
     "name": "stdout",
     "output_type": "stream",
     "text": [
      "15\n"
     ]
    }
   ],
   "source": [
    "print (cal2.adder(9))"
   ]
  },
  {
   "cell_type": "code",
   "execution_count": 56,
   "id": "ed0eab03-320f-4a6d-8c9b-6af3e1b26b89",
   "metadata": {},
   "outputs": [],
   "source": [
    "class Service:   #service 라는 클래스는 secret 라는 변수만 가지고 있다.\n",
    "    secret = \"이것 보세요~~~\"\n",
    "    def sum(self, a, b):\n",
    "        result = a+b\n",
    "        print(\"%s + %s = %s 이다.\" % (a,b, result)) #s -> str 임. %(a,b, result) 는 앞의 %s 값을 순서대로 정의 함\n",
    "# 클래스 함수는 매서드라고 부름\n",
    "# 메서드의 첫번째 파라미터는 자기자신을 전달하는 것이므로 주로 self 라는 이름을 사용함, 다른 이름을 사용해도 되나 의미가 이상해 짐. 가능하면 self 사용"
   ]
  },
  {
   "cell_type": "code",
   "execution_count": 57,
   "id": "75fc4b7f-7dfe-4d4f-a2bc-4e4d0f09911b",
   "metadata": {},
   "outputs": [],
   "source": [
    "an = Service()"
   ]
  },
  {
   "cell_type": "code",
   "execution_count": 58,
   "id": "71f6390b-610a-4344-b21c-3b8f962a8443",
   "metadata": {},
   "outputs": [
    {
     "name": "stdout",
     "output_type": "stream",
     "text": [
      "3 + 1 = 4 이다.\n"
     ]
    }
   ],
   "source": [
    "an.sum(3,1)"
   ]
  },
  {
   "cell_type": "code",
   "execution_count": 59,
   "id": "8d4031b3-7174-4747-9781-baad5407efcb",
   "metadata": {},
   "outputs": [],
   "source": [
    "s = Service()"
   ]
  },
  {
   "cell_type": "code",
   "execution_count": 46,
   "id": "fc16daec-0a88-4459-b38a-581ffa22284a",
   "metadata": {},
   "outputs": [
    {
     "data": {
      "text/plain": [
       "'이것 보세요~~~'"
      ]
     },
     "execution_count": 46,
     "metadata": {},
     "output_type": "execute_result"
    }
   ],
   "source": [
    "s.secret"
   ]
  },
  {
   "cell_type": "code",
   "execution_count": 47,
   "id": "2be38560-a7be-4ca5-93c9-b2cb63994c6c",
   "metadata": {},
   "outputs": [],
   "source": [
    "s2 = Service()"
   ]
  },
  {
   "cell_type": "code",
   "execution_count": 48,
   "id": "b2a53c0a-4e1f-4840-9430-86f456f4517d",
   "metadata": {},
   "outputs": [
    {
     "data": {
      "text/plain": [
       "'이것 보세요~~~'"
      ]
     },
     "execution_count": 48,
     "metadata": {},
     "output_type": "execute_result"
    }
   ],
   "source": [
    "s2.secret"
   ]
  },
  {
   "cell_type": "code",
   "execution_count": 50,
   "id": "c9234c8b-b6f1-4706-b5b0-e6fe8ee310c6",
   "metadata": {},
   "outputs": [
    {
     "data": {
      "text/plain": [
       "'이것 보세요~~~'"
      ]
     },
     "execution_count": 50,
     "metadata": {},
     "output_type": "execute_result"
    }
   ],
   "source": [
    "Service.secret #클래스에 직접적으로 접근이 가능하다"
   ]
  },
  {
   "cell_type": "code",
   "execution_count": 84,
   "id": "41aff164-de99-49ab-97af-24711cc420b9",
   "metadata": {},
   "outputs": [],
   "source": [
    "class Service1:   \n",
    "    secret = \"지구는 4006년에 멸망한다\"\n",
    "    #def setname(self, name):\n",
    "    def __init__(self, name): #객체를 만들때부터 변수를 사용할 수 있게 해 줌  '__init__'\n",
    "        self.name = name\n",
    "    def sum(self, a, b):\n",
    "        result = a+b\n",
    "        print(\"%s 님, %s + %s = %s 입니다.\" % (self.name, a,b, result))"
   ]
  },
  {
   "cell_type": "code",
   "execution_count": 86,
   "id": "65ca27b0-1a6d-4021-adfc-d60e3301acf2",
   "metadata": {},
   "outputs": [],
   "source": [
    "am = Service1(\"kevin\")"
   ]
  },
  {
   "cell_type": "code",
   "execution_count": 88,
   "id": "0403fde0-0f85-41d2-8dda-2f15d2e92dc5",
   "metadata": {},
   "outputs": [
    {
     "name": "stdout",
     "output_type": "stream",
     "text": [
      "kevin 님, 2 + 2 = 4 입니다.\n"
     ]
    }
   ],
   "source": [
    "am.sum(2,2)"
   ]
  },
  {
   "cell_type": "code",
   "execution_count": 90,
   "id": "6a0fce74-1706-4483-bea1-0425015a7ac9",
   "metadata": {},
   "outputs": [],
   "source": [
    "lee = Service1(\"yoo\")"
   ]
  },
  {
   "cell_type": "code",
   "execution_count": 91,
   "id": "54667d14-a1df-4c3c-8e71-325b8e89317d",
   "metadata": {},
   "outputs": [
    {
     "name": "stdout",
     "output_type": "stream",
     "text": [
      "yoo 님, 2 + 3 = 5 입니다.\n"
     ]
    }
   ],
   "source": [
    "lee.sum(2, 3)"
   ]
  },
  {
   "cell_type": "code",
   "execution_count": 98,
   "id": "1ea236bb-b9af-489e-9878-f65d57b644a3",
   "metadata": {},
   "outputs": [],
   "source": [
    "#class FourCal:\n",
    " #   pass"
   ]
  },
  {
   "cell_type": "code",
   "execution_count": 99,
   "id": "a6a48d23-48f6-4c59-b556-6f0e686af856",
   "metadata": {},
   "outputs": [],
   "source": [
    "#a = FourCal()"
   ]
  },
  {
   "cell_type": "code",
   "execution_count": 100,
   "id": "f6965e66-50ef-4dc7-bc35-bc27ffb14d0e",
   "metadata": {},
   "outputs": [],
   "source": [
    "#print(type(a))"
   ]
  },
  {
   "cell_type": "code",
   "execution_count": 136,
   "id": "a9cf202c-d507-4854-a276-987bd6f7d8f8",
   "metadata": {},
   "outputs": [],
   "source": [
    "class FourCal:\n",
    "    def setdata(self, first, second):\n",
    "        self.first = first\n",
    "        self.second = second\n",
    "    def sum(self):\n",
    "        result = self.first + self.second\n",
    "        return result\n",
    "    def mul(self):\n",
    "        result = self.first * self.second\n",
    "        return result\n",
    "    def sub(self):\n",
    "        result = self.first - self.second\n",
    "        return result\n",
    "    def div(self):\n",
    "        result = self.first / self.second\n",
    "        return result"
   ]
  },
  {
   "cell_type": "code",
   "execution_count": 137,
   "id": "ba782dbc-6505-4ddb-9b70-1817b631cf87",
   "metadata": {},
   "outputs": [],
   "source": [
    "a = FourCal()"
   ]
  },
  {
   "cell_type": "code",
   "execution_count": 138,
   "id": "350b9b5e-1db1-4b11-ab3d-03f7aba4f6dc",
   "metadata": {},
   "outputs": [
    {
     "name": "stdout",
     "output_type": "stream",
     "text": [
      "<class '__main__.FourCal'>\n"
     ]
    }
   ],
   "source": [
    "print (type(a))"
   ]
  },
  {
   "cell_type": "code",
   "execution_count": 147,
   "id": "78d45c7f-8017-4a13-9628-92ef458035e5",
   "metadata": {},
   "outputs": [],
   "source": [
    "a.setdata(1,2)"
   ]
  },
  {
   "cell_type": "code",
   "execution_count": 148,
   "id": "69e451e7-323f-4bdb-a964-e9e654fec144",
   "metadata": {},
   "outputs": [
    {
     "data": {
      "text/plain": [
       "1"
      ]
     },
     "execution_count": 148,
     "metadata": {},
     "output_type": "execute_result"
    }
   ],
   "source": [
    "a.first"
   ]
  },
  {
   "cell_type": "code",
   "execution_count": 149,
   "id": "b94fa0fa-e942-4c16-80c5-247d220a0f76",
   "metadata": {},
   "outputs": [
    {
     "data": {
      "text/plain": [
       "2"
      ]
     },
     "execution_count": 149,
     "metadata": {},
     "output_type": "execute_result"
    }
   ],
   "source": [
    "a.second"
   ]
  },
  {
   "cell_type": "code",
   "execution_count": 150,
   "id": "7ed37167-ae2c-41b1-91fe-97449be37eb4",
   "metadata": {},
   "outputs": [
    {
     "name": "stdout",
     "output_type": "stream",
     "text": [
      "3\n"
     ]
    }
   ],
   "source": [
    "print(a.sum())"
   ]
  },
  {
   "cell_type": "code",
   "execution_count": 151,
   "id": "f7024620-8f5d-456d-a045-c70cec32de35",
   "metadata": {},
   "outputs": [
    {
     "data": {
      "text/plain": [
       "3"
      ]
     },
     "execution_count": 151,
     "metadata": {},
     "output_type": "execute_result"
    }
   ],
   "source": [
    "a.sum()"
   ]
  },
  {
   "cell_type": "code",
   "execution_count": 152,
   "id": "334b1845-46a3-4063-9330-14fd8836623f",
   "metadata": {},
   "outputs": [
    {
     "data": {
      "text/plain": [
       "2"
      ]
     },
     "execution_count": 152,
     "metadata": {},
     "output_type": "execute_result"
    }
   ],
   "source": [
    "a.mul()"
   ]
  },
  {
   "cell_type": "code",
   "execution_count": 153,
   "id": "123d8e09-b969-4b2c-8856-515d2843e55d",
   "metadata": {},
   "outputs": [
    {
     "data": {
      "text/plain": [
       "-1"
      ]
     },
     "execution_count": 153,
     "metadata": {},
     "output_type": "execute_result"
    }
   ],
   "source": [
    "a.sub()"
   ]
  },
  {
   "cell_type": "code",
   "execution_count": 154,
   "id": "9015474f-5e2e-43ef-8783-9a45bd03f55e",
   "metadata": {},
   "outputs": [
    {
     "data": {
      "text/plain": [
       "0.5"
      ]
     },
     "execution_count": 154,
     "metadata": {},
     "output_type": "execute_result"
    }
   ],
   "source": [
    "a.div()"
   ]
  },
  {
   "cell_type": "code",
   "execution_count": 155,
   "id": "400dbc9e-87a4-44a2-a095-67d2506c892f",
   "metadata": {},
   "outputs": [],
   "source": [
    "import random"
   ]
  },
  {
   "cell_type": "code",
   "execution_count": 157,
   "id": "47039afd-c3b5-4d81-ade8-53255fe9e2c4",
   "metadata": {},
   "outputs": [
    {
     "name": "stdout",
     "output_type": "stream",
     "text": [
      "Player 1 rolled[3, 5, 4]\n",
      "Player 2 rolled[5, 4, 1]\n",
      "Player 1 wins\n"
     ]
    }
   ],
   "source": [
    "player1_dice = []\n",
    "player2_dice = []\n",
    "\n",
    "for i in range(3):\n",
    "    player1_dice.append(random.randint(1,6))\n",
    "    player2_dice.append(random.randint(1,6))\n",
    "\n",
    "print(\"Player 1 rolled\" + str(player1_dice))\n",
    "print(\"Player 2 rolled\" + str(player2_dice))\n",
    "\n",
    "if sum(player1_dice) == sum(player2_dice):\n",
    "    print(\"Draw\")\n",
    "elif sum(player1_dice) > sum(player2_dice):\n",
    "    print(\"Player 1 wins\")\n",
    "elif sum(player1_dice) < sum(player2_dice):\n",
    "    print(\"Player 2 wins\")"
   ]
  },
  {
   "cell_type": "code",
   "execution_count": 162,
   "id": "079ee5a8-d6de-401e-9543-20d166cd3b3c",
   "metadata": {},
   "outputs": [
    {
     "name": "stdout",
     "output_type": "stream",
     "text": [
      "Player 1 rolled[3, 4, 5]\n",
      "Player 2 rolled[1, 1, 4]\n",
      "Player 1 wins\n"
     ]
    }
   ],
   "source": [
    "from random import randint\n",
    "\n",
    "class Player:\n",
    "    def __init__(self):\n",
    "        self.dice = []\n",
    "    def roll(self):\n",
    "        self.dice=[]\n",
    "        for i in range(3):\n",
    "            self.dice.append(randint(1,6))\n",
    "\n",
    "    def get_dice(self):\n",
    "        return self.dice\n",
    "\n",
    "player1 = Player()\n",
    "player2 = Player()\n",
    "\n",
    "player1.roll()\n",
    "player2.roll()\n",
    "\n",
    "print(\"Player 1 rolled\" + str(player1.get_dice()))\n",
    "print(\"Player 2 rolled\" + str(player2.get_dice()))\n",
    "\n",
    "if sum(player1.get_dice()) == sum(player2.get_dice()):\n",
    "    print(\"Draw!\")\n",
    "elif sum(player1.get_dice()) > sum(player2.get_dice()):\n",
    "    print(\"Player 1 wins\")\n",
    "elif sum(player1.get_dice()) < sum(player2.get_dice()):\n",
    "    print(\"Player 2 wins\")"
   ]
  },
  {
   "cell_type": "code",
   "execution_count": null,
   "id": "1f5a55a9-1dad-4498-bffe-347603d30ef5",
   "metadata": {},
   "outputs": [],
   "source": []
  }
 ],
 "metadata": {
  "kernelspec": {
   "display_name": "Python 3 (ipykernel)",
   "language": "python",
   "name": "python3"
  },
  "language_info": {
   "codemirror_mode": {
    "name": "ipython",
    "version": 3
   },
   "file_extension": ".py",
   "mimetype": "text/x-python",
   "name": "python",
   "nbconvert_exporter": "python",
   "pygments_lexer": "ipython3",
   "version": "3.12.2"
  }
 },
 "nbformat": 4,
 "nbformat_minor": 5
}
