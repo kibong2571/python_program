{
  "nbformat": 4,
  "nbformat_minor": 0,
  "metadata": {
    "colab": {
      "provenance": []
    },
    "kernelspec": {
      "name": "python3",
      "display_name": "Python 3"
    },
    "language_info": {
      "name": "python"
    }
  },
  "cells": [
    {
      "cell_type": "code",
      "execution_count": 9,
      "metadata": {
        "colab": {
          "base_uri": "https://localhost:8080/"
        },
        "id": "Hit08Y1snwPk",
        "outputId": "2494c655-89c1-4fd2-8690-9027e8ac9b19"
      },
      "outputs": [
        {
          "output_type": "stream",
          "name": "stdout",
          "text": [
            "hello python!\n"
          ]
        }
      ],
      "source": [
        "#안녕하세요 교수님\n",
        "#24석사 유기봉_2024101431 입니다.\n",
        "\n",
        "# Exercise 1 (Types): Your First Program\n",
        "\n",
        "print ('hello python!') #shift+enter 를 사용하여 실행했습니다."
      ]
    },
    {
      "cell_type": "code",
      "source": [
        "# Exercise 2 (Types): Get the object type\n",
        "type (12.0)"
      ],
      "metadata": {
        "id": "8JVNrgEloUpH",
        "colab": {
          "base_uri": "https://localhost:8080/"
        },
        "outputId": "814ec753-bc0f-4a08-a09a-e21a861f6295"
      },
      "execution_count": 8,
      "outputs": [
        {
          "output_type": "execute_result",
          "data": {
            "text/plain": [
              "float"
            ]
          },
          "metadata": {},
          "execution_count": 8
        }
      ]
    },
    {
      "cell_type": "code",
      "source": [
        "# Exercise 3 (Types): Types\n",
        "\n",
        "type (6/2)"
      ],
      "metadata": {
        "colab": {
          "base_uri": "https://localhost:8080/"
        },
        "id": "Y1DNUEQ2r3KY",
        "outputId": "fcb80374-6b20-4d8b-b28a-a530d28ac79a"
      },
      "execution_count": 10,
      "outputs": [
        {
          "output_type": "execute_result",
          "data": {
            "text/plain": [
              "float"
            ]
          },
          "metadata": {},
          "execution_count": 10
        }
      ]
    },
    {
      "cell_type": "code",
      "source": [
        "type (6//2)  # 정수로 표현할때에는 나누기가 두 개 들어감"
      ],
      "metadata": {
        "colab": {
          "base_uri": "https://localhost:8080/"
        },
        "id": "iI-jeazo0NSB",
        "outputId": "0db1794a-6af8-4c93-e0f1-5ed7c8a9bf59"
      },
      "execution_count": 6,
      "outputs": [
        {
          "output_type": "execute_result",
          "data": {
            "text/plain": [
              "int"
            ]
          },
          "metadata": {},
          "execution_count": 6
        }
      ]
    },
    {
      "cell_type": "code",
      "source": [
        "# Exercise 4 (Types): Expression\n",
        "160/6"
      ],
      "metadata": {
        "colab": {
          "base_uri": "https://localhost:8080/"
        },
        "id": "l6QANdoZ0O1c",
        "outputId": "572514e3-0d9d-45b6-a7e2-cd60a77bad86"
      },
      "execution_count": 12,
      "outputs": [
        {
          "output_type": "execute_result",
          "data": {
            "text/plain": [
              "26.666666666666668"
            ]
          },
          "metadata": {},
          "execution_count": 12
        }
      ]
    },
    {
      "cell_type": "code",
      "source": [
        "160//6"
      ],
      "metadata": {
        "colab": {
          "base_uri": "https://localhost:8080/"
        },
        "id": "WW0T5nbC2-Df",
        "outputId": "a7eab904-5caa-41a0-a8d5-09956deffb0c"
      },
      "execution_count": 13,
      "outputs": [
        {
          "output_type": "execute_result",
          "data": {
            "text/plain": [
              "26"
            ]
          },
          "metadata": {},
          "execution_count": 13
        }
      ]
    },
    {
      "cell_type": "code",
      "source": [
        "#5 Exercise 5 (Types): Expression and Variables in Python\n",
        "x = 3 + 2 * 2\n",
        "x"
      ],
      "metadata": {
        "colab": {
          "base_uri": "https://localhost:8080/"
        },
        "id": "iuOniih52OgE",
        "outputId": "4fa96a42-e995-4c51-8ecf-4c658d37d11c"
      },
      "execution_count": 17,
      "outputs": [
        {
          "output_type": "execute_result",
          "data": {
            "text/plain": [
              "7"
            ]
          },
          "metadata": {},
          "execution_count": 17
        }
      ]
    },
    {
      "cell_type": "code",
      "source": [
        "y = (3 + 2) * 2\n",
        "y"
      ],
      "metadata": {
        "colab": {
          "base_uri": "https://localhost:8080/"
        },
        "id": "vAo__8rL3TLk",
        "outputId": "b02b41f6-a1c4-4c52-8e1f-d6ceb5e2d2c8"
      },
      "execution_count": 16,
      "outputs": [
        {
          "output_type": "execute_result",
          "data": {
            "text/plain": [
              "10"
            ]
          },
          "metadata": {},
          "execution_count": 16
        }
      ]
    },
    {
      "cell_type": "code",
      "source": [
        "z= x+y\n",
        "z"
      ],
      "metadata": {
        "colab": {
          "base_uri": "https://localhost:8080/"
        },
        "id": "XFhOfXuS3cNb",
        "outputId": "3b812c9f-4ba3-483c-e51a-f2bf5a1ddd82"
      },
      "execution_count": 19,
      "outputs": [
        {
          "output_type": "execute_result",
          "data": {
            "text/plain": [
              "17"
            ]
          },
          "metadata": {},
          "execution_count": 19
        }
      ]
    },
    {
      "cell_type": "code",
      "source": [],
      "metadata": {
        "id": "unkGcvY53izM"
      },
      "execution_count": null,
      "outputs": []
    }
  ]
}