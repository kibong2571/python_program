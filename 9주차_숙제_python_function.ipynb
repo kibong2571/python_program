{
 "cells": [
  {
   "cell_type": "code",
   "execution_count": 1,
   "id": "9df66087-bd90-4913-8db4-2410da8dd28d",
   "metadata": {},
   "outputs": [],
   "source": [
    "a=[]\n",
    "for i in [1,2,3]:\n",
    "    a.append(i+1)"
   ]
  },
  {
   "cell_type": "code",
   "execution_count": 2,
   "id": "7380af17-06be-4c35-b617-f119990e4a70",
   "metadata": {},
   "outputs": [
    {
     "data": {
      "text/plain": [
       "[2, 3, 4]"
      ]
     },
     "execution_count": 2,
     "metadata": {},
     "output_type": "execute_result"
    }
   ],
   "source": [
    "a"
   ]
  },
  {
   "cell_type": "code",
   "execution_count": 8,
   "id": "3365dd46-b85a-42a9-b384-b6a78b23c3be",
   "metadata": {},
   "outputs": [],
   "source": [
    "def calcul(i):\n",
    "    c= i*2*3+i\n",
    "    return c"
   ]
  },
  {
   "cell_type": "code",
   "execution_count": 9,
   "id": "c4fbbdcf-5455-4db5-bd11-ae286ba44737",
   "metadata": {},
   "outputs": [],
   "source": [
    "b=[calcul(i) for i in [1,2,3]]"
   ]
  },
  {
   "cell_type": "code",
   "execution_count": 10,
   "id": "4197e3fc-175c-4bfd-927a-deab4de94e87",
   "metadata": {},
   "outputs": [
    {
     "data": {
      "text/plain": [
       "[7, 14, 21]"
      ]
     },
     "execution_count": 10,
     "metadata": {},
     "output_type": "execute_result"
    }
   ],
   "source": [
    "b"
   ]
  },
  {
   "cell_type": "code",
   "execution_count": 12,
   "id": "2c61cc35-10b0-40e3-a28c-799287c74c05",
   "metadata": {},
   "outputs": [
    {
     "data": {
      "text/plain": [
       "[3]"
      ]
     },
     "execution_count": 12,
     "metadata": {},
     "output_type": "execute_result"
    }
   ],
   "source": [
    "[i+1 for i in [1,2,3] if i%2==0]"
   ]
  },
  {
   "cell_type": "code",
   "execution_count": 13,
   "id": "95ce0b7d-908e-4378-a20a-eb79206517bf",
   "metadata": {},
   "outputs": [],
   "source": [
    "a = []\n",
    "for i in [1,2,3]:\n",
    "    if i%2 == 0 :\n",
    "        a.append (i+1)"
   ]
  },
  {
   "cell_type": "code",
   "execution_count": 14,
   "id": "4de06c6c-3eb0-4e26-a2b4-6b8d31bb2b33",
   "metadata": {},
   "outputs": [
    {
     "data": {
      "text/plain": [
       "[3]"
      ]
     },
     "execution_count": 14,
     "metadata": {},
     "output_type": "execute_result"
    }
   ],
   "source": [
    "a"
   ]
  },
  {
   "cell_type": "code",
   "execution_count": 15,
   "id": "3cb4b572-efb1-4749-87b7-989fa7ad1836",
   "metadata": {},
   "outputs": [],
   "source": [
    "number_list = []\n",
    "number_list.append(1)\n",
    "number_list.append(2)\n",
    "number_list.append(3)\n",
    "number_list.append(4)\n",
    "number_list.append(5)"
   ]
  },
  {
   "cell_type": "code",
   "execution_count": 16,
   "id": "ac9d78f7-167d-413b-9ce7-72ceaa9246bf",
   "metadata": {},
   "outputs": [
    {
     "data": {
      "text/plain": [
       "[1, 2, 3, 4, 5]"
      ]
     },
     "execution_count": 16,
     "metadata": {},
     "output_type": "execute_result"
    }
   ],
   "source": [
    "number_list"
   ]
  },
  {
   "cell_type": "code",
   "execution_count": 18,
   "id": "de5fad5c-fbe8-45a3-810c-bcc19a68aba1",
   "metadata": {},
   "outputs": [
    {
     "data": {
      "text/plain": [
       "[1, 2, 3, 4, 5]"
      ]
     },
     "execution_count": 18,
     "metadata": {},
     "output_type": "execute_result"
    }
   ],
   "source": [
    "list(range(1,6))"
   ]
  },
  {
   "cell_type": "markdown",
   "id": "727c6cef-2bc6-45c6-925d-cc75da5982aa",
   "metadata": {},
   "source": [
    "number_list = [number for number in range(1,6)]"
   ]
  },
  {
   "cell_type": "code",
   "execution_count": 19,
   "id": "0c8b6744-9d1c-45de-941c-bdc5c4b6cb4a",
   "metadata": {},
   "outputs": [],
   "source": [
    "number_list = [number for number in range(1,6)]"
   ]
  },
  {
   "cell_type": "code",
   "execution_count": 20,
   "id": "c0d133ba-62b0-42d5-b8b2-c3141ef34eed",
   "metadata": {},
   "outputs": [
    {
     "data": {
      "text/plain": [
       "[1, 2, 3, 4, 5]"
      ]
     },
     "execution_count": 20,
     "metadata": {},
     "output_type": "execute_result"
    }
   ],
   "source": [
    "number_list"
   ]
  },
  {
   "cell_type": "code",
   "execution_count": 21,
   "id": "5f01598b-c0e6-4870-8fd8-26e08474f4fb",
   "metadata": {},
   "outputs": [
    {
     "data": {
      "text/plain": [
       "'PYTHON'"
      ]
     },
     "execution_count": 21,
     "metadata": {},
     "output_type": "execute_result"
    }
   ],
   "source": [
    "word = 'python'\n",
    "word.upper()"
   ]
  },
  {
   "cell_type": "code",
   "execution_count": 22,
   "id": "4374094c-e8ef-4018-a4e6-9e14b64453d5",
   "metadata": {},
   "outputs": [
    {
     "data": {
      "text/plain": [
       "str"
      ]
     },
     "execution_count": 22,
     "metadata": {},
     "output_type": "execute_result"
    }
   ],
   "source": [
    "type (word)"
   ]
  },
  {
   "cell_type": "code",
   "execution_count": 23,
   "id": "a27269a8-3dcd-4e94-a40e-10902c5ac138",
   "metadata": {},
   "outputs": [],
   "source": [
    "sentence = ['I', 'LOVE', 'PYTHON', 'Soooooo', 'MUCH!!!']"
   ]
  },
  {
   "cell_type": "code",
   "execution_count": 24,
   "id": "e72e3eaa-0a26-41a1-b31f-966195668f51",
   "metadata": {},
   "outputs": [
    {
     "data": {
      "text/plain": [
       "['i', 'love', 'python', 'soooooo', 'much!!!']"
      ]
     },
     "execution_count": 24,
     "metadata": {},
     "output_type": "execute_result"
    }
   ],
   "source": [
    "[word.lower() for word in sentence]"
   ]
  },
  {
   "cell_type": "code",
   "execution_count": 25,
   "id": "4eb38b72-9f5a-47a9-bb4b-475578d286a7",
   "metadata": {},
   "outputs": [
    {
     "data": {
      "text/plain": [
       "['I', 'LOVE', 'PYTHON', 'SOOOOOO', 'MUCH!!!']"
      ]
     },
     "execution_count": 25,
     "metadata": {},
     "output_type": "execute_result"
    }
   ],
   "source": [
    "[word.upper() for word in sentence]"
   ]
  },
  {
   "cell_type": "code",
   "execution_count": 28,
   "id": "0a902284-ad03-4a0e-8e3d-402f3e424484",
   "metadata": {},
   "outputs": [
    {
     "data": {
      "text/plain": [
       "['Soooooo', 'MUCH!!!']"
      ]
     },
     "execution_count": 28,
     "metadata": {},
     "output_type": "execute_result"
    }
   ],
   "source": [
    "[word for word in sentence if len(word) > 6]"
   ]
  },
  {
   "cell_type": "code",
   "execution_count": 29,
   "id": "65acb008-ba2e-45cc-824a-ac5ad8d6f1d0",
   "metadata": {},
   "outputs": [
    {
     "data": {
      "text/plain": [
       "['I', 'LOVE']"
      ]
     },
     "execution_count": 29,
     "metadata": {},
     "output_type": "execute_result"
    }
   ],
   "source": [
    "[word for word in sentence if len(word) < 5]"
   ]
  },
  {
   "cell_type": "code",
   "execution_count": 33,
   "id": "bf21a7d6-5eee-4366-bbd3-e09fb47fc6ee",
   "metadata": {},
   "outputs": [
    {
     "data": {
      "text/plain": [
       "[(0, 0, 0),\n",
       " (1, 1, 1),\n",
       " (2, 4, 8),\n",
       " (3, 9, 27),\n",
       " (4, 16, 64),\n",
       " (5, 25, 125),\n",
       " (6, 36, 216),\n",
       " (7, 49, 343),\n",
       " (8, 64, 512),\n",
       " (9, 81, 729)]"
      ]
     },
     "execution_count": 33,
     "metadata": {},
     "output_type": "execute_result"
    }
   ],
   "source": [
    "[(x, x ** 2, x ** 3) for x in range(10)]"
   ]
  },
  {
   "cell_type": "code",
   "execution_count": 31,
   "id": "1a70cf2e-a550-43e6-b281-177f0b58d92c",
   "metadata": {},
   "outputs": [
    {
     "data": {
      "text/plain": [
       "[0, 1, 2, 3, 4, 5, 6, 7, 8, 9]"
      ]
     },
     "execution_count": 31,
     "metadata": {},
     "output_type": "execute_result"
    }
   ],
   "source": [
    "list(range(10))"
   ]
  },
  {
   "cell_type": "code",
   "execution_count": 32,
   "id": "19877b25-cd18-43a0-9db4-74bfa18eefb3",
   "metadata": {},
   "outputs": [
    {
     "data": {
      "text/plain": [
       "[(-1, 1),\n",
       " (0, 2),\n",
       " (1, 3),\n",
       " (2, 4),\n",
       " (3, 5),\n",
       " (4, 6),\n",
       " (5, 7),\n",
       " (6, 8),\n",
       " (7, 9),\n",
       " (8, 10)]"
      ]
     },
     "execution_count": 32,
     "metadata": {},
     "output_type": "execute_result"
    }
   ],
   "source": [
    "[ (x-1, x+1) for x in range(10)]"
   ]
  },
  {
   "cell_type": "code",
   "execution_count": 36,
   "id": "fe1fbe1d-a427-4020-8016-cd87cb256cca",
   "metadata": {},
   "outputs": [
    {
     "name": "stdout",
     "output_type": "stream",
     "text": [
      "1 1\n",
      "1 2\n",
      "2 1\n",
      "2 2\n",
      "3 1\n",
      "3 2\n"
     ]
    }
   ],
   "source": [
    "rows = range(1,4)\n",
    "cols = range(1,3)\n",
    "for row in rows:\n",
    "    for col in cols:\n",
    "        print(row, col)"
   ]
  },
  {
   "cell_type": "code",
   "execution_count": 37,
   "id": "009648c6-6f1f-4634-ac52-87a9b91d355d",
   "metadata": {},
   "outputs": [
    {
     "name": "stdout",
     "output_type": "stream",
     "text": [
      "(1, 1)\n",
      "(1, 2)\n",
      "(2, 1)\n",
      "(2, 2)\n",
      "(3, 1)\n",
      "(3, 2)\n"
     ]
    }
   ],
   "source": [
    "rows = range(1,4)\n",
    "cols = range(1,3)\n",
    "cells = [(row, col) for row in rows for col in cols]\n",
    "for cell in cells:\n",
    "    print(cell)"
   ]
  },
  {
   "cell_type": "code",
   "execution_count": 38,
   "id": "8081d435-35c9-4212-8809-12fc39abbb58",
   "metadata": {},
   "outputs": [
    {
     "data": {
      "text/plain": [
       "[(1, 0),\n",
       " (2, 0),\n",
       " (2, 1),\n",
       " (3, 0),\n",
       " (3, 1),\n",
       " (3, 2),\n",
       " (4, 0),\n",
       " (4, 1),\n",
       " (4, 2),\n",
       " (4, 3)]"
      ]
     },
     "execution_count": 38,
     "metadata": {},
     "output_type": "execute_result"
    }
   ],
   "source": [
    "[(i,j) for i in range(5) for j in range(i)]"
   ]
  },
  {
   "cell_type": "code",
   "execution_count": 39,
   "id": "2b7a9755-e762-4522-b22c-2d219dcf3bbf",
   "metadata": {},
   "outputs": [],
   "source": [
    "word = 'letters'\n",
    "letter_counts = {letter: word.count(letter) for letter in word}"
   ]
  },
  {
   "cell_type": "code",
   "execution_count": 40,
   "id": "bdda876e-0a38-4dfe-a330-8b54ffa210d9",
   "metadata": {},
   "outputs": [
    {
     "data": {
      "text/plain": [
       "{'l': 1, 'e': 2, 't': 2, 'r': 1, 's': 1}"
      ]
     },
     "execution_count": 40,
     "metadata": {},
     "output_type": "execute_result"
    }
   ],
   "source": [
    "letter_counts"
   ]
  },
  {
   "cell_type": "code",
   "execution_count": 41,
   "id": "dfa35cd1-25cf-41e0-b212-b38a4358c02b",
   "metadata": {},
   "outputs": [
    {
     "data": {
      "text/plain": [
       "{'e', 'l', 'r', 's', 't'}"
      ]
     },
     "execution_count": 41,
     "metadata": {},
     "output_type": "execute_result"
    }
   ],
   "source": [
    "word = 'letters'\n",
    "set (word)"
   ]
  },
  {
   "cell_type": "code",
   "execution_count": 43,
   "id": "c2bf0d3d-7798-4e92-b530-44093865aced",
   "metadata": {},
   "outputs": [
    {
     "data": {
      "text/plain": [
       "{1, 4}"
      ]
     },
     "execution_count": 43,
     "metadata": {},
     "output_type": "execute_result"
    }
   ],
   "source": [
    "a_set = {number for number in range(1,6) if number % 3 == 1}\n",
    "a_set"
   ]
  },
  {
   "cell_type": "code",
   "execution_count": 48,
   "id": "95486bcd-c939-493a-b1ed-6d8b92f022b3",
   "metadata": {},
   "outputs": [],
   "source": [
    "def sum(a,b):\n",
    "    return (a+b)"
   ]
  },
  {
   "cell_type": "code",
   "execution_count": 49,
   "id": "d34d4e1c-3447-4f6d-8849-fb3a778066c1",
   "metadata": {},
   "outputs": [
    {
     "data": {
      "text/plain": [
       "3"
      ]
     },
     "execution_count": 49,
     "metadata": {},
     "output_type": "execute_result"
    }
   ],
   "source": [
    "sum (1,2)"
   ]
  },
  {
   "cell_type": "code",
   "execution_count": 52,
   "id": "cfe76cf8-cac7-4165-95ab-08b7880aad0e",
   "metadata": {},
   "outputs": [
    {
     "data": {
      "text/plain": [
       "'love you'"
      ]
     },
     "execution_count": 52,
     "metadata": {},
     "output_type": "execute_result"
    }
   ],
   "source": [
    "sum ('love ', 'you')"
   ]
  },
  {
   "cell_type": "code",
   "execution_count": 53,
   "id": "ea1c795a-e6c1-4adb-9d4a-8a593cf01f28",
   "metadata": {},
   "outputs": [],
   "source": [
    "days = ['Monday', 'Tuesday', 'Wednesday']\n",
    "fruits = ['banana', 'orange', 'peach']\n",
    "drinks = ['coffee', 'tea', 'beer']\n",
    "desserts = ['tiramisu', 'ice cream', 'pie', 'pudding']"
   ]
  },
  {
   "cell_type": "code",
   "execution_count": 56,
   "id": "fe330801-9a18-480f-9026-627f96f9f2d8",
   "metadata": {},
   "outputs": [
    {
     "name": "stdout",
     "output_type": "stream",
     "text": [
      "['coffee', 'tea', 'beer']\n"
     ]
    }
   ],
   "source": [
    "print (drinks)"
   ]
  },
  {
   "cell_type": "code",
   "execution_count": 55,
   "id": "d6b0d459-5191-449e-ab89-cb2a332fc43e",
   "metadata": {},
   "outputs": [
    {
     "name": "stdout",
     "output_type": "stream",
     "text": [
      "['Monday', 'Tuesday', 'Wednesday']\n"
     ]
    }
   ],
   "source": [
    "print (days)"
   ]
  },
  {
   "cell_type": "code",
   "execution_count": 58,
   "id": "fd7ec850-b227-4d29-a73d-f094f8c10c40",
   "metadata": {},
   "outputs": [
    {
     "name": "stdout",
     "output_type": "stream",
     "text": [
      "Monday : drink coffee - eat banana - enjoy tiramisu\n",
      "Tuesday : drink tea - eat orange - enjoy ice cream\n",
      "Wednesday : drink beer - eat peach - enjoy pie\n"
     ]
    }
   ],
   "source": [
    "for day, fruit, drink, dessert in zip(days, fruits, drinks, desserts):\n",
    "    print(day, \": drink\", drink, \"- eat\", fruit, \"- enjoy\", dessert)"
   ]
  },
  {
   "cell_type": "code",
   "execution_count": 69,
   "id": "923d4808-462f-4d0b-9db0-7e97fbeea384",
   "metadata": {},
   "outputs": [
    {
     "data": {
      "text/plain": [
       "{'Monday': 'Lundi', 'Tuesday': 'Mardi', 'Wednesday': 'Mercredi'}"
      ]
     },
     "execution_count": 69,
     "metadata": {},
     "output_type": "execute_result"
    }
   ],
   "source": [
    "english = 'Monday', 'Tuesday', 'Wednesday'\n",
    "french = 'Lundi', 'Mardi', 'Mercredi'\n",
    "list(zip(english, french))\n",
    "# {'Monday': 'Lundi', 'Tuesday': 'Mardi', 'Wednesday': 'Mercredi'}\n",
    "\n",
    "dict(zip(english, french))\n",
    "# [('Monday', 'Lundi'), ('Tuesday', 'Mardi'), ('Wednesday', 'Mercredi')]"
   ]
  },
  {
   "cell_type": "code",
   "execution_count": 64,
   "id": "18295dd5-601a-4058-a68b-c1906d84acf6",
   "metadata": {},
   "outputs": [],
   "source": [
    "def menu(wine, entree, dessert):\n",
    "    return {'wine': wine, 'entree': entree, 'dessert': dessert}"
   ]
  },
  {
   "cell_type": "code",
   "execution_count": 66,
   "id": "7ea74d53-04d9-404c-863c-1665b0b0ce7a",
   "metadata": {},
   "outputs": [
    {
     "data": {
      "text/plain": [
       "{'wine': 'red wine', 'entree': 'chicken', 'dessert': 'cake'}"
      ]
     },
     "execution_count": 66,
     "metadata": {},
     "output_type": "execute_result"
    }
   ],
   "source": [
    "menu ('red wine', 'chicken', 'cake')"
   ]
  },
  {
   "cell_type": "code",
   "execution_count": 70,
   "id": "84b578b6-4764-4afc-aeeb-35c0308767cf",
   "metadata": {},
   "outputs": [
    {
     "data": {
      "text/plain": [
       "{'wine': 'bordeaux', 'entree': 'beef', 'dessert': 'bagel'}"
      ]
     },
     "execution_count": 70,
     "metadata": {},
     "output_type": "execute_result"
    }
   ],
   "source": [
    "menu(entree='beef', dessert='bagel', wine='bordeaux')\n",
    "# 순서가 섞여도 함수 순서대로 출력 됨 "
   ]
  },
  {
   "cell_type": "code",
   "execution_count": 73,
   "id": "144268fc-2995-45dd-8338-678404a7816b",
   "metadata": {},
   "outputs": [
    {
     "data": {
      "text/plain": [
       "{'wine': 'frontenac', 'entree': 'fish', 'dessert': 'flan'}"
      ]
     },
     "execution_count": 73,
     "metadata": {},
     "output_type": "execute_result"
    }
   ],
   "source": [
    "menu('frontenac', dessert='flan', entree='fish')\n",
    "#섞어서 써도 됨\n",
    "# 단 위치인자는 제일 먼저 써야 함. 함수를 쓰고 위치인자를 쓰면 안됨"
   ]
  },
  {
   "cell_type": "code",
   "execution_count": 74,
   "id": "36c7034d-27f8-441c-a392-47c97e926c45",
   "metadata": {},
   "outputs": [
    {
     "ename": "SyntaxError",
     "evalue": "positional argument follows keyword argument (115004814.py, line 1)",
     "output_type": "error",
     "traceback": [
      "\u001b[1;36m  Cell \u001b[1;32mIn[74], line 1\u001b[1;36m\u001b[0m\n\u001b[1;33m    menu(dessert='flan', 'frontenac',  entree='fish')\u001b[0m\n\u001b[1;37m                                                    ^\u001b[0m\n\u001b[1;31mSyntaxError\u001b[0m\u001b[1;31m:\u001b[0m positional argument follows keyword argument\n"
     ]
    }
   ],
   "source": [
    "menu(dessert='flan', 'frontenac',  entree='fish')\n",
    "# 단 위치인자는 제일 먼저 써야 함. 함수를 쓰고 위치인자를 쓰면 안됨"
   ]
  },
  {
   "cell_type": "code",
   "execution_count": 75,
   "id": "ac263441-b668-489e-9339-70022cff6adf",
   "metadata": {},
   "outputs": [],
   "source": [
    "def echo(anything):\n",
    "    'echo returns its input argument'\n",
    "    return anything"
   ]
  },
  {
   "cell_type": "code",
   "execution_count": 76,
   "id": "1e3698d9-1797-4d04-a02d-9a44e7a4290f",
   "metadata": {},
   "outputs": [
    {
     "data": {
      "text/plain": [
       "<function __main__.echo(anything)>"
      ]
     },
     "execution_count": 76,
     "metadata": {},
     "output_type": "execute_result"
    }
   ],
   "source": [
    "echo"
   ]
  },
  {
   "cell_type": "code",
   "execution_count": 77,
   "id": "4784cd1d-a957-4ee3-bf3e-2bfe6e02872a",
   "metadata": {},
   "outputs": [
    {
     "data": {
      "text/plain": [
       "1"
      ]
     },
     "execution_count": 77,
     "metadata": {},
     "output_type": "execute_result"
    }
   ],
   "source": [
    "echo(1)"
   ]
  },
  {
   "cell_type": "code",
   "execution_count": 78,
   "id": "3a475a81-d75e-4bdb-b740-e8f0a55aa797",
   "metadata": {},
   "outputs": [
    {
     "name": "stdout",
     "output_type": "stream",
     "text": [
      "Help on function echo in module __main__:\n",
      "\n",
      "echo(anything)\n",
      "    echo returns its input argument\n",
      "\n"
     ]
    }
   ],
   "source": [
    "help(echo)"
   ]
  },
  {
   "cell_type": "code",
   "execution_count": 80,
   "id": "5cc1cc83-56ab-40c5-9c04-fbb7263415a7",
   "metadata": {},
   "outputs": [],
   "source": [
    "def print_if_true(thing, check):\n",
    "    \"\"\"\n",
    "    Prints the first argument if a second argument is true.\n",
    "    The operation is:\n",
    "    1. Check whether the *second* argument is true.\n",
    "    2. If it is, print the *first* argument.\n",
    "    \"\"\"\n",
    "    if check:\n",
    "        print(thing)"
   ]
  },
  {
   "cell_type": "code",
   "execution_count": 81,
   "id": "8d06f882-f469-4268-8897-ea74e97d7d2e",
   "metadata": {},
   "outputs": [
    {
     "data": {
      "text/plain": [
       "<function __main__.print_if_true(thing, check)>"
      ]
     },
     "execution_count": 81,
     "metadata": {},
     "output_type": "execute_result"
    }
   ],
   "source": [
    "print_if_true"
   ]
  },
  {
   "cell_type": "code",
   "execution_count": 85,
   "id": "a1cd86ec-fded-4ac3-9363-be32ff1855bd",
   "metadata": {},
   "outputs": [
    {
     "name": "stdout",
     "output_type": "stream",
     "text": [
      "hhh\n"
     ]
    }
   ],
   "source": [
    "print_if_true('hhh', True)"
   ]
  },
  {
   "cell_type": "code",
   "execution_count": 86,
   "id": "5768214c-0375-4ecb-bf10-9d89be44157f",
   "metadata": {},
   "outputs": [
    {
     "name": "stdout",
     "output_type": "stream",
     "text": [
      "Help on function print_if_true in module __main__:\n",
      "\n",
      "print_if_true(thing, check)\n",
      "    Prints the first argument if a second argument is true.\n",
      "    The operation is:\n",
      "    1. Check whether the *second* argument is true.\n",
      "    2. If it is, print the *first* argument.\n",
      "\n"
     ]
    }
   ],
   "source": [
    "help(print_if_true)"
   ]
  },
  {
   "cell_type": "code",
   "execution_count": null,
   "id": "4bd98d2a-80b5-4691-b92e-dcec406fbc08",
   "metadata": {},
   "outputs": [],
   "source": []
  }
 ],
 "metadata": {
  "kernelspec": {
   "display_name": "Python 3 (ipykernel)",
   "language": "python",
   "name": "python3"
  },
  "language_info": {
   "codemirror_mode": {
    "name": "ipython",
    "version": 3
   },
   "file_extension": ".py",
   "mimetype": "text/x-python",
   "name": "python",
   "nbconvert_exporter": "python",
   "pygments_lexer": "ipython3",
   "version": "3.12.2"
  }
 },
 "nbformat": 4,
 "nbformat_minor": 5
}
