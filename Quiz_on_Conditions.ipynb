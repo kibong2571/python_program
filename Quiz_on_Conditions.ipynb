{
  "nbformat": 4,
  "nbformat_minor": 0,
  "metadata": {
    "colab": {
      "provenance": []
    },
    "kernelspec": {
      "name": "python3",
      "display_name": "Python 3"
    },
    "language_info": {
      "name": "python"
    }
  },
  "cells": [
    {
      "cell_type": "code",
      "execution_count": 1,
      "metadata": {
        "colab": {
          "base_uri": "https://localhost:8080/"
        },
        "id": "Q6dvNwVJWWiU",
        "outputId": "3924e1cd-9835-4e86-a625-7d9e42d188ce"
      },
      "outputs": [
        {
          "output_type": "stream",
          "name": "stdout",
          "text": [
            "This album is Amazing!\n"
          ]
        }
      ],
      "source": [
        "rating = 8.5\n",
        "if rating > 8:\n",
        "    print (\"This album is Amazing!\")"
      ]
    },
    {
      "cell_type": "code",
      "source": [
        "rating = 8\n",
        "if rating > 8:\n",
        "  print (\"this album is amazing\")\n",
        "else:\n",
        "  print (\"this album is ok\")"
      ],
      "metadata": {
        "colab": {
          "base_uri": "https://localhost:8080/"
        },
        "id": "C5XvyB8ecdFj",
        "outputId": "7db6fd27-2334-4e5b-9ae6-d4f5fecf6cbb"
      },
      "execution_count": 2,
      "outputs": [
        {
          "output_type": "stream",
          "name": "stdout",
          "text": [
            "this album is ok\n"
          ]
        }
      ]
    },
    {
      "cell_type": "code",
      "source": [
        "album_year = 1979\n",
        "\n",
        "if (album_year < 1980) or (album_year == 1991) or (album_year == 1993):\n",
        "  print (\"this album came out already\")"
      ],
      "metadata": {
        "colab": {
          "base_uri": "https://localhost:8080/"
        },
        "id": "Pgf5DvflwY4n",
        "outputId": "f4619fba-52ab-4b0e-8eec-f8206e6d2fdb"
      },
      "execution_count": 5,
      "outputs": [
        {
          "output_type": "stream",
          "name": "stdout",
          "text": [
            "this album came out already\n"
          ]
        }
      ]
    },
    {
      "cell_type": "code",
      "source": [],
      "metadata": {
        "id": "iffEjaUlw46d"
      },
      "execution_count": null,
      "outputs": []
    }
  ]
}