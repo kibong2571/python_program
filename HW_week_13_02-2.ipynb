{
 "cells": [
  {
   "cell_type": "code",
   "execution_count": 27,
   "id": "0c27f09c",
   "metadata": {
    "colab": {
     "base_uri": "https://localhost:8080/",
     "height": 107
    },
    "id": "0c27f09c",
    "outputId": "51f862c6-1db5-4063-b507-4a56294d0f2c"
   },
   "outputs": [
    {
     "name": "stderr",
     "output_type": "stream",
     "text": [
      "Downloading...\n",
      "From: https://bit.ly/3q9SZix\n",
      "To: C:\\Users\\kibon\\python_program\\20s_best_book.json\n",
      "100%|█████████████████████████████████████████████████████████████████████████████| 92.9k/92.9k [00:00<00:00, 1.82MB/s]\n"
     ]
    },
    {
     "data": {
      "text/plain": [
       "'20s_best_book.json'"
      ]
     },
     "execution_count": 27,
     "metadata": {},
     "output_type": "execute_result"
    }
   ],
   "source": [
    "import gdown\n",
    "\n",
    "gdown.download('https://bit.ly/3q9SZix', '20s_best_book.json', quiet=False)"
   ]
  },
  {
   "cell_type": "code",
   "execution_count": 28,
   "id": "6128a3fd",
   "metadata": {
    "colab": {
     "base_uri": "https://localhost:8080/",
     "height": 417
    },
    "id": "6128a3fd",
    "outputId": "89201b65-e66b-4af8-9af2-aad8cfe88706"
   },
   "outputs": [
    {
     "data": {
      "text/html": [
       "<div>\n",
       "<style scoped>\n",
       "    .dataframe tbody tr th:only-of-type {\n",
       "        vertical-align: middle;\n",
       "    }\n",
       "\n",
       "    .dataframe tbody tr th {\n",
       "        vertical-align: top;\n",
       "    }\n",
       "\n",
       "    .dataframe thead th {\n",
       "        text-align: right;\n",
       "    }\n",
       "</style>\n",
       "<table border=\"1\" class=\"dataframe\">\n",
       "  <thead>\n",
       "    <tr style=\"text-align: right;\">\n",
       "      <th></th>\n",
       "      <th>no</th>\n",
       "      <th>ranking</th>\n",
       "      <th>bookname</th>\n",
       "      <th>authors</th>\n",
       "      <th>publisher</th>\n",
       "      <th>publication_year</th>\n",
       "      <th>isbn13</th>\n",
       "      <th>addition_symbol</th>\n",
       "      <th>vol</th>\n",
       "      <th>class_no</th>\n",
       "      <th>class_nm</th>\n",
       "      <th>loan_count</th>\n",
       "      <th>bookImageURL</th>\n",
       "    </tr>\n",
       "  </thead>\n",
       "  <tbody>\n",
       "    <tr>\n",
       "      <th>0</th>\n",
       "      <td>1</td>\n",
       "      <td>1</td>\n",
       "      <td>우리가 빛의 속도로 갈 수 없다면 :김초엽 소설</td>\n",
       "      <td>지은이: 김초엽</td>\n",
       "      <td>허블</td>\n",
       "      <td>2019</td>\n",
       "      <td>9791190090018</td>\n",
       "      <td>03810</td>\n",
       "      <td></td>\n",
       "      <td>813.7</td>\n",
       "      <td>문학 &gt; 한국문학 &gt; 소설</td>\n",
       "      <td>461</td>\n",
       "      <td>https://image.aladin.co.kr/product/19359/16/co...</td>\n",
       "    </tr>\n",
       "    <tr>\n",
       "      <th>1</th>\n",
       "      <td>2</td>\n",
       "      <td>2</td>\n",
       "      <td>달러구트 꿈 백화점.이미예 장편소설</td>\n",
       "      <td>지은이: 이미예</td>\n",
       "      <td>팩토리나인</td>\n",
       "      <td>2020</td>\n",
       "      <td>9791165341909</td>\n",
       "      <td>03810</td>\n",
       "      <td></td>\n",
       "      <td>813.7</td>\n",
       "      <td>문학 &gt; 한국문학 &gt; 소설</td>\n",
       "      <td>387</td>\n",
       "      <td>https://image.aladin.co.kr/product/24512/70/co...</td>\n",
       "    </tr>\n",
       "    <tr>\n",
       "      <th>2</th>\n",
       "      <td>3</td>\n",
       "      <td>3</td>\n",
       "      <td>지구에서 한아뿐 :정세랑 장편소설</td>\n",
       "      <td>지은이: 정세랑</td>\n",
       "      <td>난다</td>\n",
       "      <td>2019</td>\n",
       "      <td>9791188862290</td>\n",
       "      <td>03810</td>\n",
       "      <td></td>\n",
       "      <td>813.7</td>\n",
       "      <td>문학 &gt; 한국문학 &gt; 소설</td>\n",
       "      <td>383</td>\n",
       "      <td>https://image.aladin.co.kr/product/19804/82/co...</td>\n",
       "    </tr>\n",
       "    <tr>\n",
       "      <th>3</th>\n",
       "      <td>4</td>\n",
       "      <td>4</td>\n",
       "      <td>시선으로부터, :정세랑 장편소설</td>\n",
       "      <td>지은이: 정세랑</td>\n",
       "      <td>문학동네</td>\n",
       "      <td>2020</td>\n",
       "      <td>9788954672214</td>\n",
       "      <td>03810</td>\n",
       "      <td></td>\n",
       "      <td>813.7</td>\n",
       "      <td>문학 &gt; 한국문학 &gt; 소설</td>\n",
       "      <td>370</td>\n",
       "      <td>https://image.aladin.co.kr/product/24131/37/co...</td>\n",
       "    </tr>\n",
       "    <tr>\n",
       "      <th>4</th>\n",
       "      <td>5</td>\n",
       "      <td>5</td>\n",
       "      <td>아몬드 :손원평 장편소설</td>\n",
       "      <td>지은이: 손원평</td>\n",
       "      <td>창비</td>\n",
       "      <td>2017</td>\n",
       "      <td>9788936434267</td>\n",
       "      <td>03810</td>\n",
       "      <td></td>\n",
       "      <td>813.7</td>\n",
       "      <td>문학 &gt; 한국문학 &gt; 소설</td>\n",
       "      <td>365</td>\n",
       "      <td>http://image.aladin.co.kr/product/16839/4/cove...</td>\n",
       "    </tr>\n",
       "  </tbody>\n",
       "</table>\n",
       "</div>"
      ],
      "text/plain": [
       "   no  ranking                     bookname   authors publisher  \\\n",
       "0   1        1  우리가 빛의 속도로 갈 수 없다면 :김초엽 소설   지은이: 김초엽        허블   \n",
       "1   2        2         달러구트 꿈 백화점.이미예 장편소설   지은이: 이미예     팩토리나인   \n",
       "2   3        3          지구에서 한아뿐 :정세랑 장편소설   지은이: 정세랑        난다   \n",
       "3   4        4           시선으로부터, :정세랑 장편소설   지은이: 정세랑      문학동네   \n",
       "4   5        5               아몬드 :손원평 장편소설   지은이: 손원평        창비   \n",
       "\n",
       "  publication_year         isbn13 addition_symbol vol  class_no  \\\n",
       "0             2019  9791190090018           03810         813.7   \n",
       "1             2020  9791165341909           03810         813.7   \n",
       "2             2019  9791188862290           03810         813.7   \n",
       "3             2020  9788954672214           03810         813.7   \n",
       "4             2017  9788936434267           03810         813.7   \n",
       "\n",
       "         class_nm  loan_count  \\\n",
       "0  문학 > 한국문학 > 소설         461   \n",
       "1  문학 > 한국문학 > 소설         387   \n",
       "2  문학 > 한국문학 > 소설         383   \n",
       "3  문학 > 한국문학 > 소설         370   \n",
       "4  문학 > 한국문학 > 소설         365   \n",
       "\n",
       "                                        bookImageURL  \n",
       "0  https://image.aladin.co.kr/product/19359/16/co...  \n",
       "1  https://image.aladin.co.kr/product/24512/70/co...  \n",
       "2  https://image.aladin.co.kr/product/19804/82/co...  \n",
       "3  https://image.aladin.co.kr/product/24131/37/co...  \n",
       "4  http://image.aladin.co.kr/product/16839/4/cove...  "
      ]
     },
     "execution_count": 28,
     "metadata": {},
     "output_type": "execute_result"
    }
   ],
   "source": [
    "import pandas as pd\n",
    "\n",
    "books_df = pd.read_json('20s_best_book.json')\n",
    "books_df.head()"
   ]
  },
  {
   "cell_type": "code",
   "execution_count": 30,
   "id": "2c3b1962",
   "metadata": {
    "colab": {
     "base_uri": "https://localhost:8080/",
     "height": 206
    },
    "id": "2c3b1962",
    "outputId": "3a8da6a5-3968-42fc-95ff-4ed83f0901a2"
   },
   "outputs": [
    {
     "data": {
      "text/html": [
       "<div>\n",
       "<style scoped>\n",
       "    .dataframe tbody tr th:only-of-type {\n",
       "        vertical-align: middle;\n",
       "    }\n",
       "\n",
       "    .dataframe tbody tr th {\n",
       "        vertical-align: top;\n",
       "    }\n",
       "\n",
       "    .dataframe thead th {\n",
       "        text-align: right;\n",
       "    }\n",
       "</style>\n",
       "<table border=\"1\" class=\"dataframe\">\n",
       "  <thead>\n",
       "    <tr style=\"text-align: right;\">\n",
       "      <th></th>\n",
       "      <th>no</th>\n",
       "      <th>ranking</th>\n",
       "      <th>bookname</th>\n",
       "      <th>authors</th>\n",
       "      <th>publisher</th>\n",
       "      <th>publication_year</th>\n",
       "      <th>isbn13</th>\n",
       "    </tr>\n",
       "  </thead>\n",
       "  <tbody>\n",
       "    <tr>\n",
       "      <th>0</th>\n",
       "      <td>1</td>\n",
       "      <td>1</td>\n",
       "      <td>우리가 빛의 속도로 갈 수 없다면 :김초엽 소설</td>\n",
       "      <td>지은이: 김초엽</td>\n",
       "      <td>허블</td>\n",
       "      <td>2019</td>\n",
       "      <td>9791190090018</td>\n",
       "    </tr>\n",
       "    <tr>\n",
       "      <th>1</th>\n",
       "      <td>2</td>\n",
       "      <td>2</td>\n",
       "      <td>달러구트 꿈 백화점.이미예 장편소설</td>\n",
       "      <td>지은이: 이미예</td>\n",
       "      <td>팩토리나인</td>\n",
       "      <td>2020</td>\n",
       "      <td>9791165341909</td>\n",
       "    </tr>\n",
       "    <tr>\n",
       "      <th>2</th>\n",
       "      <td>3</td>\n",
       "      <td>3</td>\n",
       "      <td>지구에서 한아뿐 :정세랑 장편소설</td>\n",
       "      <td>지은이: 정세랑</td>\n",
       "      <td>난다</td>\n",
       "      <td>2019</td>\n",
       "      <td>9791188862290</td>\n",
       "    </tr>\n",
       "    <tr>\n",
       "      <th>3</th>\n",
       "      <td>4</td>\n",
       "      <td>4</td>\n",
       "      <td>시선으로부터, :정세랑 장편소설</td>\n",
       "      <td>지은이: 정세랑</td>\n",
       "      <td>문학동네</td>\n",
       "      <td>2020</td>\n",
       "      <td>9788954672214</td>\n",
       "    </tr>\n",
       "    <tr>\n",
       "      <th>4</th>\n",
       "      <td>5</td>\n",
       "      <td>5</td>\n",
       "      <td>아몬드 :손원평 장편소설</td>\n",
       "      <td>지은이: 손원평</td>\n",
       "      <td>창비</td>\n",
       "      <td>2017</td>\n",
       "      <td>9788936434267</td>\n",
       "    </tr>\n",
       "  </tbody>\n",
       "</table>\n",
       "</div>"
      ],
      "text/plain": [
       "   no  ranking                     bookname   authors publisher  \\\n",
       "0   1        1  우리가 빛의 속도로 갈 수 없다면 :김초엽 소설   지은이: 김초엽        허블   \n",
       "1   2        2         달러구트 꿈 백화점.이미예 장편소설   지은이: 이미예     팩토리나인   \n",
       "2   3        3          지구에서 한아뿐 :정세랑 장편소설   지은이: 정세랑        난다   \n",
       "3   4        4           시선으로부터, :정세랑 장편소설   지은이: 정세랑      문학동네   \n",
       "4   5        5               아몬드 :손원평 장편소설   지은이: 손원평        창비   \n",
       "\n",
       "  publication_year         isbn13  \n",
       "0             2019  9791190090018  \n",
       "1             2020  9791165341909  \n",
       "2             2019  9791188862290  \n",
       "3             2020  9788954672214  \n",
       "4             2017  9788936434267  "
      ]
     },
     "execution_count": 30,
     "metadata": {},
     "output_type": "execute_result"
    }
   ],
   "source": [
    "books = books_df[['no','ranking','bookname','authors','publisher','publication_year','isbn13']]\n",
    "books.head()"
   ]
  },
  {
   "cell_type": "markdown",
   "id": "6b13e2ac-eabe-4c3a-acf0-ab210487e7fb",
   "metadata": {},
   "source": [
    "(1) 원하는 정보 추출 및 데이터 프레임으로 저장"
   ]
  },
  {
   "cell_type": "code",
   "execution_count": 64,
   "id": "9568a197-2fd8-4979-80a0-41c561e08022",
   "metadata": {},
   "outputs": [
    {
     "data": {
      "text/html": [
       "<div>\n",
       "<style scoped>\n",
       "    .dataframe tbody tr th:only-of-type {\n",
       "        vertical-align: middle;\n",
       "    }\n",
       "\n",
       "    .dataframe tbody tr th {\n",
       "        vertical-align: top;\n",
       "    }\n",
       "\n",
       "    .dataframe thead th {\n",
       "        text-align: right;\n",
       "    }\n",
       "</style>\n",
       "<table border=\"1\" class=\"dataframe\">\n",
       "  <thead>\n",
       "    <tr style=\"text-align: right;\">\n",
       "      <th></th>\n",
       "      <th>bookname</th>\n",
       "      <th>authors</th>\n",
       "      <th>publication_year</th>\n",
       "      <th>isbn13</th>\n",
       "    </tr>\n",
       "  </thead>\n",
       "  <tbody>\n",
       "    <tr>\n",
       "      <th>0</th>\n",
       "      <td>우리가 빛의 속도로 갈 수 없다면 :김초엽 소설</td>\n",
       "      <td>지은이: 김초엽</td>\n",
       "      <td>2019</td>\n",
       "      <td>9791190090018</td>\n",
       "    </tr>\n",
       "    <tr>\n",
       "      <th>1</th>\n",
       "      <td>달러구트 꿈 백화점.이미예 장편소설</td>\n",
       "      <td>지은이: 이미예</td>\n",
       "      <td>2020</td>\n",
       "      <td>9791165341909</td>\n",
       "    </tr>\n",
       "    <tr>\n",
       "      <th>2</th>\n",
       "      <td>지구에서 한아뿐 :정세랑 장편소설</td>\n",
       "      <td>지은이: 정세랑</td>\n",
       "      <td>2019</td>\n",
       "      <td>9791188862290</td>\n",
       "    </tr>\n",
       "    <tr>\n",
       "      <th>3</th>\n",
       "      <td>시선으로부터, :정세랑 장편소설</td>\n",
       "      <td>지은이: 정세랑</td>\n",
       "      <td>2020</td>\n",
       "      <td>9788954672214</td>\n",
       "    </tr>\n",
       "    <tr>\n",
       "      <th>4</th>\n",
       "      <td>아몬드 :손원평 장편소설</td>\n",
       "      <td>지은이: 손원평</td>\n",
       "      <td>2017</td>\n",
       "      <td>9788936434267</td>\n",
       "    </tr>\n",
       "  </tbody>\n",
       "</table>\n",
       "</div>"
      ],
      "text/plain": [
       "                      bookname   authors publication_year         isbn13\n",
       "0  우리가 빛의 속도로 갈 수 없다면 :김초엽 소설   지은이: 김초엽             2019  9791190090018\n",
       "1         달러구트 꿈 백화점.이미예 장편소설   지은이: 이미예             2020  9791165341909\n",
       "2          지구에서 한아뿐 :정세랑 장편소설   지은이: 정세랑             2019  9791188862290\n",
       "3           시선으로부터, :정세랑 장편소설   지은이: 정세랑             2020  9788954672214\n",
       "4               아몬드 :손원평 장편소설   지은이: 손원평             2017  9788936434267"
      ]
     },
     "execution_count": 64,
     "metadata": {},
     "output_type": "execute_result"
    }
   ],
   "source": [
    "mybooks = books_df[['bookname','authors','publication_year','isbn13']]\n",
    "mybooks.head()"
   ]
  },
  {
   "cell_type": "code",
   "execution_count": 65,
   "id": "2Lf9nLeFz-jM",
   "metadata": {
    "id": "2Lf9nLeFz-jM"
   },
   "outputs": [],
   "source": [
    "import requests\n",
    "\n",
    "isbn = 9791190090018      # '우리가 빛의 속도로 갈 수 없다면'의 ISBN\n",
    "url = 'http://www.yes24.com/Product/Search?domain=BOOK&query={}'\n",
    "\n",
    "r = requests.get(url.format(isbn))"
   ]
  },
  {
   "cell_type": "code",
   "execution_count": 66,
   "id": "077d748b",
   "metadata": {
    "id": "077d748b"
   },
   "outputs": [],
   "source": [
    "from bs4 import BeautifulSoup"
   ]
  },
  {
   "cell_type": "code",
   "execution_count": 67,
   "id": "579a0854",
   "metadata": {
    "id": "579a0854"
   },
   "outputs": [],
   "source": [
    "soup = BeautifulSoup(r.text, 'html.parser')"
   ]
  },
  {
   "cell_type": "code",
   "execution_count": 68,
   "id": "4de033c4",
   "metadata": {
    "id": "4de033c4"
   },
   "outputs": [],
   "source": [
    "prd_link = soup.find('a', attrs={'class':'gd_name'})"
   ]
  },
  {
   "cell_type": "code",
   "execution_count": 78,
   "id": "wQo5yajw3f1_",
   "metadata": {
    "id": "wQo5yajw3f1_"
   },
   "outputs": [],
   "source": [
    "# '우리가 빛의 속도로 갈 수 없다면'의 상세 페이지 가져오기\n",
    "url = 'http://www.yes24.com'+prd_link['href']\n",
    "r = requests.get(url)"
   ]
  },
  {
   "cell_type": "code",
   "execution_count": 79,
   "id": "27-HqVCH3wBP",
   "metadata": {
    "colab": {
     "base_uri": "https://localhost:8080/"
    },
    "id": "27-HqVCH3wBP",
    "outputId": "a80c2396-08b3-49bd-ba6f-06f096bc4f9d"
   },
   "outputs": [],
   "source": [
    "soup = BeautifulSoup(r.text, 'html.parser')\n",
    "prd_detail = soup.find('div', attrs={'id':'infoset_specific'})"
   ]
  },
  {
   "cell_type": "code",
   "execution_count": 80,
   "id": "09213ca8",
   "metadata": {
    "colab": {
     "base_uri": "https://localhost:8080/"
    },
    "id": "09213ca8",
    "outputId": "4bf4330a-2f85-4386-f2e9-c912f5d83325",
    "scrolled": true
   },
   "outputs": [],
   "source": [
    "prd_tr_list = prd_detail.find_all('tr') #'tr' 로 묶여 있는 것을 찾음"
   ]
  },
  {
   "cell_type": "code",
   "execution_count": 81,
   "id": "iAgtBQmV730Z",
   "metadata": {
    "id": "iAgtBQmV730Z"
   },
   "outputs": [],
   "source": [
    "for tr in prd_tr_list:\n",
    "    if tr.find('th').get_text() == '쪽수, 무게, 크기':\n",
    "        page_td = tr.find('td').get_text()\n",
    "        break"
   ]
  },
  {
   "cell_type": "code",
   "execution_count": 82,
   "id": "d267046f",
   "metadata": {
    "id": "d267046f"
   },
   "outputs": [],
   "source": [
    "def get_page_cnt(isbn):\n",
    "    # Yes24 도서 검색 페이지 URL\n",
    "    url = 'http://www.yes24.com/Product/Search?domain=BOOK&query={}'\n",
    "    # URL에 ISBN을 넣어 HTML 가져옵니다.\n",
    "    r = requests.get(url.format(isbn))\n",
    "    soup = BeautifulSoup(r.text, 'html.parser')   # HTML 파싱\n",
    "    # 검색 결과에서 해당 도서를 선택합니다.\n",
    "    prd_info = soup.find('a', attrs={'class':'gd_name'})\n",
    "    if prd_info == None:\n",
    "        return ''\n",
    "    # 도서 상세 페이지를 가져옵니다.\n",
    "    url = 'http://www.yes24.com'+prd_info['href']\n",
    "    r = requests.get(url)\n",
    "    soup = BeautifulSoup(r.text, 'html.parser')\n",
    "    # 상품 상세정보 div를 선택합니다.\n",
    "    prd_detail = soup.find('div', attrs={'id':'infoset_specific'})\n",
    "    # 테이블에 있는 tr 태그를 가져옵니다.\n",
    "    prd_tr_list = prd_detail.find_all('tr')\n",
    "    # 쪽수가 들어 있는 th를 찾아 td에 담긴 값을 반환합니다.\n",
    "    for tr in prd_tr_list:\n",
    "        if tr.find('th').get_text() == '쪽수, 무게, 크기':\n",
    "            return tr.find('td').get_text().split()[0]\n",
    "    return ''"
   ]
  },
  {
   "cell_type": "code",
   "execution_count": 83,
   "id": "cd7c9941",
   "metadata": {
    "colab": {
     "base_uri": "https://localhost:8080/",
     "height": 36
    },
    "id": "cd7c9941",
    "outputId": "a9d7fb91-1d91-49bb-85ac-7aa766cfe210"
   },
   "outputs": [
    {
     "data": {
      "text/plain": [
       "'330쪽'"
      ]
     },
     "execution_count": 83,
     "metadata": {},
     "output_type": "execute_result"
    }
   ],
   "source": [
    "get_page_cnt(9791190090018)"
   ]
  },
  {
   "cell_type": "code",
   "execution_count": 84,
   "id": "da739a0a",
   "metadata": {
    "id": "da739a0a"
   },
   "outputs": [],
   "source": [
    "#top10_books = books.head(10)\n",
    "my_books = mybooks.head(10)"
   ]
  },
  {
   "cell_type": "code",
   "execution_count": 85,
   "id": "49a13903-c99a-4d4a-b40b-acf562e11942",
   "metadata": {},
   "outputs": [
    {
     "data": {
      "text/html": [
       "<div>\n",
       "<style scoped>\n",
       "    .dataframe tbody tr th:only-of-type {\n",
       "        vertical-align: middle;\n",
       "    }\n",
       "\n",
       "    .dataframe tbody tr th {\n",
       "        vertical-align: top;\n",
       "    }\n",
       "\n",
       "    .dataframe thead th {\n",
       "        text-align: right;\n",
       "    }\n",
       "</style>\n",
       "<table border=\"1\" class=\"dataframe\">\n",
       "  <thead>\n",
       "    <tr style=\"text-align: right;\">\n",
       "      <th></th>\n",
       "      <th>bookname</th>\n",
       "      <th>authors</th>\n",
       "      <th>publication_year</th>\n",
       "      <th>isbn13</th>\n",
       "    </tr>\n",
       "  </thead>\n",
       "  <tbody>\n",
       "    <tr>\n",
       "      <th>0</th>\n",
       "      <td>우리가 빛의 속도로 갈 수 없다면 :김초엽 소설</td>\n",
       "      <td>지은이: 김초엽</td>\n",
       "      <td>2019</td>\n",
       "      <td>9791190090018</td>\n",
       "    </tr>\n",
       "    <tr>\n",
       "      <th>1</th>\n",
       "      <td>달러구트 꿈 백화점.이미예 장편소설</td>\n",
       "      <td>지은이: 이미예</td>\n",
       "      <td>2020</td>\n",
       "      <td>9791165341909</td>\n",
       "    </tr>\n",
       "    <tr>\n",
       "      <th>2</th>\n",
       "      <td>지구에서 한아뿐 :정세랑 장편소설</td>\n",
       "      <td>지은이: 정세랑</td>\n",
       "      <td>2019</td>\n",
       "      <td>9791188862290</td>\n",
       "    </tr>\n",
       "    <tr>\n",
       "      <th>3</th>\n",
       "      <td>시선으로부터, :정세랑 장편소설</td>\n",
       "      <td>지은이: 정세랑</td>\n",
       "      <td>2020</td>\n",
       "      <td>9788954672214</td>\n",
       "    </tr>\n",
       "    <tr>\n",
       "      <th>4</th>\n",
       "      <td>아몬드 :손원평 장편소설</td>\n",
       "      <td>지은이: 손원평</td>\n",
       "      <td>2017</td>\n",
       "      <td>9788936434267</td>\n",
       "    </tr>\n",
       "    <tr>\n",
       "      <th>5</th>\n",
       "      <td>피프티 피플 :정세랑 장편소설</td>\n",
       "      <td>지은이: 정세랑</td>\n",
       "      <td>2016</td>\n",
       "      <td>9788936434243</td>\n",
       "    </tr>\n",
       "    <tr>\n",
       "      <th>6</th>\n",
       "      <td>목소리를 드릴게요 :정세랑 소설집</td>\n",
       "      <td>지은이: 정세랑</td>\n",
       "      <td>2020</td>\n",
       "      <td>9791165300005</td>\n",
       "    </tr>\n",
       "    <tr>\n",
       "      <th>7</th>\n",
       "      <td>나미야 잡화점의 기적 :히가시노 게이고 장편소설</td>\n",
       "      <td>지은이: 히가시노 게이고 ;옮긴이: 양윤옥</td>\n",
       "      <td>2012</td>\n",
       "      <td>9788972756194</td>\n",
       "    </tr>\n",
       "    <tr>\n",
       "      <th>8</th>\n",
       "      <td>선량한 차별주의자</td>\n",
       "      <td>김지혜 지음</td>\n",
       "      <td>2019</td>\n",
       "      <td>9788936477196</td>\n",
       "    </tr>\n",
       "    <tr>\n",
       "      <th>9</th>\n",
       "      <td>쇼코의 미소 :최은영 소설</td>\n",
       "      <td>지은이: 최은영</td>\n",
       "      <td>2016</td>\n",
       "      <td>9788954641630</td>\n",
       "    </tr>\n",
       "  </tbody>\n",
       "</table>\n",
       "</div>"
      ],
      "text/plain": [
       "                      bookname                  authors publication_year  \\\n",
       "0  우리가 빛의 속도로 갈 수 없다면 :김초엽 소설                  지은이: 김초엽             2019   \n",
       "1         달러구트 꿈 백화점.이미예 장편소설                  지은이: 이미예             2020   \n",
       "2          지구에서 한아뿐 :정세랑 장편소설                  지은이: 정세랑             2019   \n",
       "3           시선으로부터, :정세랑 장편소설                  지은이: 정세랑             2020   \n",
       "4               아몬드 :손원평 장편소설                  지은이: 손원평             2017   \n",
       "5            피프티 피플 :정세랑 장편소설                  지은이: 정세랑             2016   \n",
       "6          목소리를 드릴게요 :정세랑 소설집                  지은이: 정세랑             2020   \n",
       "7  나미야 잡화점의 기적 :히가시노 게이고 장편소설   지은이: 히가시노 게이고 ;옮긴이: 양윤옥             2012   \n",
       "8                   선량한 차별주의자                    김지혜 지음             2019   \n",
       "9              쇼코의 미소 :최은영 소설                  지은이: 최은영             2016   \n",
       "\n",
       "          isbn13  \n",
       "0  9791190090018  \n",
       "1  9791165341909  \n",
       "2  9791188862290  \n",
       "3  9788954672214  \n",
       "4  9788936434267  \n",
       "5  9788936434243  \n",
       "6  9791165300005  \n",
       "7  9788972756194  \n",
       "8  9788936477196  \n",
       "9  9788954641630  "
      ]
     },
     "execution_count": 85,
     "metadata": {},
     "output_type": "execute_result"
    }
   ],
   "source": [
    "my_books"
   ]
  },
  {
   "cell_type": "code",
   "execution_count": 88,
   "id": "0bff8104",
   "metadata": {
    "id": "0bff8104"
   },
   "outputs": [],
   "source": [
    "def get_page_cnt2(row):\n",
    "    isbn = row['isbn13']\n",
    "    return get_page_cnt(isbn)"
   ]
  },
  {
   "cell_type": "code",
   "execution_count": 87,
   "id": "fb638a9b",
   "metadata": {
    "colab": {
     "base_uri": "https://localhost:8080/"
    },
    "id": "fb638a9b",
    "outputId": "08d69c61-4760-4bb2-a337-f3c8db64c9b3"
   },
   "outputs": [
    {
     "name": "stdout",
     "output_type": "stream",
     "text": [
      "0    330쪽\n",
      "1    300쪽\n",
      "2    228쪽\n",
      "3    340쪽\n",
      "4    264쪽\n",
      "5    396쪽\n",
      "6    272쪽\n",
      "7        \n",
      "8    244쪽\n",
      "9    296쪽\n",
      "dtype: object\n"
     ]
    }
   ],
   "source": [
    "page_count = my_books.apply(get_page_cnt2, axis=1)\n",
    "print(page_count)\n",
    "# 7번에는 isbn이 없어서 페이지가 안나왔음."
   ]
  },
  {
   "cell_type": "code",
   "execution_count": 89,
   "id": "941aa1d3",
   "metadata": {
    "id": "941aa1d3"
   },
   "outputs": [],
   "source": [
    "page_count = my_books.apply(lambda row: get_page_cnt(row['isbn13']), axis=1)"
   ]
  },
  {
   "cell_type": "code",
   "execution_count": 90,
   "id": "85375062",
   "metadata": {
    "colab": {
     "base_uri": "https://localhost:8080/"
    },
    "id": "85375062",
    "outputId": "3de08f1c-241c-4c17-8735-1c682544a01a"
   },
   "outputs": [
    {
     "name": "stdout",
     "output_type": "stream",
     "text": [
      "0    330쪽\n",
      "1    300쪽\n",
      "2    228쪽\n",
      "3    340쪽\n",
      "4    264쪽\n",
      "5    396쪽\n",
      "6    272쪽\n",
      "7        \n",
      "8    244쪽\n",
      "9    296쪽\n",
      "Name: page_count, dtype: object\n"
     ]
    }
   ],
   "source": [
    "page_count.name = 'page_count'\n",
    "print(page_count)"
   ]
  },
  {
   "cell_type": "code",
   "execution_count": 91,
   "id": "7ac45b9f",
   "metadata": {
    "colab": {
     "base_uri": "https://localhost:8080/",
     "height": 363
    },
    "id": "7ac45b9f",
    "outputId": "1fd709eb-9179-4077-b9ac-83016325af89"
   },
   "outputs": [
    {
     "data": {
      "text/html": [
       "<div>\n",
       "<style scoped>\n",
       "    .dataframe tbody tr th:only-of-type {\n",
       "        vertical-align: middle;\n",
       "    }\n",
       "\n",
       "    .dataframe tbody tr th {\n",
       "        vertical-align: top;\n",
       "    }\n",
       "\n",
       "    .dataframe thead th {\n",
       "        text-align: right;\n",
       "    }\n",
       "</style>\n",
       "<table border=\"1\" class=\"dataframe\">\n",
       "  <thead>\n",
       "    <tr style=\"text-align: right;\">\n",
       "      <th></th>\n",
       "      <th>bookname</th>\n",
       "      <th>authors</th>\n",
       "      <th>publication_year</th>\n",
       "      <th>isbn13</th>\n",
       "      <th>page_count</th>\n",
       "    </tr>\n",
       "  </thead>\n",
       "  <tbody>\n",
       "    <tr>\n",
       "      <th>0</th>\n",
       "      <td>우리가 빛의 속도로 갈 수 없다면 :김초엽 소설</td>\n",
       "      <td>지은이: 김초엽</td>\n",
       "      <td>2019</td>\n",
       "      <td>9791190090018</td>\n",
       "      <td>330쪽</td>\n",
       "    </tr>\n",
       "    <tr>\n",
       "      <th>1</th>\n",
       "      <td>달러구트 꿈 백화점.이미예 장편소설</td>\n",
       "      <td>지은이: 이미예</td>\n",
       "      <td>2020</td>\n",
       "      <td>9791165341909</td>\n",
       "      <td>300쪽</td>\n",
       "    </tr>\n",
       "    <tr>\n",
       "      <th>2</th>\n",
       "      <td>지구에서 한아뿐 :정세랑 장편소설</td>\n",
       "      <td>지은이: 정세랑</td>\n",
       "      <td>2019</td>\n",
       "      <td>9791188862290</td>\n",
       "      <td>228쪽</td>\n",
       "    </tr>\n",
       "    <tr>\n",
       "      <th>3</th>\n",
       "      <td>시선으로부터, :정세랑 장편소설</td>\n",
       "      <td>지은이: 정세랑</td>\n",
       "      <td>2020</td>\n",
       "      <td>9788954672214</td>\n",
       "      <td>340쪽</td>\n",
       "    </tr>\n",
       "    <tr>\n",
       "      <th>4</th>\n",
       "      <td>아몬드 :손원평 장편소설</td>\n",
       "      <td>지은이: 손원평</td>\n",
       "      <td>2017</td>\n",
       "      <td>9788936434267</td>\n",
       "      <td>264쪽</td>\n",
       "    </tr>\n",
       "    <tr>\n",
       "      <th>5</th>\n",
       "      <td>피프티 피플 :정세랑 장편소설</td>\n",
       "      <td>지은이: 정세랑</td>\n",
       "      <td>2016</td>\n",
       "      <td>9788936434243</td>\n",
       "      <td>396쪽</td>\n",
       "    </tr>\n",
       "    <tr>\n",
       "      <th>6</th>\n",
       "      <td>목소리를 드릴게요 :정세랑 소설집</td>\n",
       "      <td>지은이: 정세랑</td>\n",
       "      <td>2020</td>\n",
       "      <td>9791165300005</td>\n",
       "      <td>272쪽</td>\n",
       "    </tr>\n",
       "    <tr>\n",
       "      <th>7</th>\n",
       "      <td>나미야 잡화점의 기적 :히가시노 게이고 장편소설</td>\n",
       "      <td>지은이: 히가시노 게이고 ;옮긴이: 양윤옥</td>\n",
       "      <td>2012</td>\n",
       "      <td>9788972756194</td>\n",
       "      <td></td>\n",
       "    </tr>\n",
       "    <tr>\n",
       "      <th>8</th>\n",
       "      <td>선량한 차별주의자</td>\n",
       "      <td>김지혜 지음</td>\n",
       "      <td>2019</td>\n",
       "      <td>9788936477196</td>\n",
       "      <td>244쪽</td>\n",
       "    </tr>\n",
       "    <tr>\n",
       "      <th>9</th>\n",
       "      <td>쇼코의 미소 :최은영 소설</td>\n",
       "      <td>지은이: 최은영</td>\n",
       "      <td>2016</td>\n",
       "      <td>9788954641630</td>\n",
       "      <td>296쪽</td>\n",
       "    </tr>\n",
       "  </tbody>\n",
       "</table>\n",
       "</div>"
      ],
      "text/plain": [
       "                      bookname                  authors publication_year  \\\n",
       "0  우리가 빛의 속도로 갈 수 없다면 :김초엽 소설                  지은이: 김초엽             2019   \n",
       "1         달러구트 꿈 백화점.이미예 장편소설                  지은이: 이미예             2020   \n",
       "2          지구에서 한아뿐 :정세랑 장편소설                  지은이: 정세랑             2019   \n",
       "3           시선으로부터, :정세랑 장편소설                  지은이: 정세랑             2020   \n",
       "4               아몬드 :손원평 장편소설                  지은이: 손원평             2017   \n",
       "5            피프티 피플 :정세랑 장편소설                  지은이: 정세랑             2016   \n",
       "6          목소리를 드릴게요 :정세랑 소설집                  지은이: 정세랑             2020   \n",
       "7  나미야 잡화점의 기적 :히가시노 게이고 장편소설   지은이: 히가시노 게이고 ;옮긴이: 양윤옥             2012   \n",
       "8                   선량한 차별주의자                    김지혜 지음             2019   \n",
       "9              쇼코의 미소 :최은영 소설                  지은이: 최은영             2016   \n",
       "\n",
       "          isbn13 page_count  \n",
       "0  9791190090018       330쪽  \n",
       "1  9791165341909       300쪽  \n",
       "2  9791188862290       228쪽  \n",
       "3  9788954672214       340쪽  \n",
       "4  9788936434267       264쪽  \n",
       "5  9788936434243       396쪽  \n",
       "6  9791165300005       272쪽  \n",
       "7  9788972756194             \n",
       "8  9788936477196       244쪽  \n",
       "9  9788954641630       296쪽  "
      ]
     },
     "execution_count": 91,
     "metadata": {},
     "output_type": "execute_result"
    }
   ],
   "source": [
    "mybooks_with_page_count = pd.merge(my_books, page_count,\n",
    "                                 left_index=True, right_index=True)\n",
    "mybooks_with_page_count"
   ]
  },
  {
   "cell_type": "code",
   "execution_count": null,
   "id": "64587d55-7d5d-4bc1-a0b2-f94c51ceaac8",
   "metadata": {},
   "outputs": [],
   "source": []
  }
 ],
 "metadata": {
  "colab": {
   "provenance": []
  },
  "kernelspec": {
   "display_name": "Python 3 (ipykernel)",
   "language": "python",
   "name": "python3"
  },
  "language_info": {
   "codemirror_mode": {
    "name": "ipython",
    "version": 3
   },
   "file_extension": ".py",
   "mimetype": "text/x-python",
   "name": "python",
   "nbconvert_exporter": "python",
   "pygments_lexer": "ipython3",
   "version": "3.12.2"
  }
 },
 "nbformat": 4,
 "nbformat_minor": 5
}
