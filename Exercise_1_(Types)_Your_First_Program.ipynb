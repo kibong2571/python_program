{
  "nbformat": 4,
  "nbformat_minor": 0,
  "metadata": {
    "colab": {
      "provenance": []
    },
    "kernelspec": {
      "name": "python3",
      "display_name": "Python 3"
    },
    "language_info": {
      "name": "python"
    }
  },
  "cells": [
    {
      "cell_type": "code",
      "execution_count": 1,
      "metadata": {
        "colab": {
          "base_uri": "https://localhost:8080/"
        },
        "id": "Hit08Y1snwPk",
        "outputId": "dccf6e6e-c13e-4145-89fd-e242b8ff6e44"
      },
      "outputs": [
        {
          "output_type": "stream",
          "name": "stdout",
          "text": [
            "hello python!\n"
          ]
        }
      ],
      "source": [
        "#안녕하세요 교수님\n",
        "#24석사 유기봉_2024101431 입니다.\n",
        "\n",
        "print ('hello python!') #shift+enter 를 사용하여 실행했습니다."
      ]
    },
    {
      "cell_type": "code",
      "source": [],
      "metadata": {
        "id": "8JVNrgEloUpH"
      },
      "execution_count": null,
      "outputs": []
    }
  ]
}